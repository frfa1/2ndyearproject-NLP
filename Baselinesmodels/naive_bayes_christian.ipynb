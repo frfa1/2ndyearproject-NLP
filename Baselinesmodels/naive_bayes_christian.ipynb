{
 "cells": [
  {
   "cell_type": "code",
   "execution_count": 1,
   "id": "based-missile",
   "metadata": {},
   "outputs": [],
   "source": [
    "import numpy as np\n",
    "import pandas as pd\n",
    "import nltk\n",
    "import re\n",
    "import matplotlib.pyplot as plt"
   ]
  },
  {
   "cell_type": "markdown",
   "id": "worldwide-transmission",
   "metadata": {},
   "source": [
    "## Load data"
   ]
  },
  {
   "cell_type": "code",
   "execution_count": 2,
   "id": "standing-arrangement",
   "metadata": {},
   "outputs": [],
   "source": [
    "train = pd.read_json('data/music_reviews_train.json', lines=True)\n",
    "dev = pd.read_json('data/music_reviews_dev.json', lines=True)\n",
    "test = pd.read_json('data/music_reviews_test_masked.json', lines=True)\n",
    "\n",
    "train = train[['reviewText', 'sentiment']]\n",
    "dev = dev[['reviewText', 'sentiment']]\n",
    "test = test[['reviewText', 'sentiment']]\n",
    "\n",
    "train.replace(np.nan, '', regex=True, inplace=True)\n",
    "dev.replace(np.nan, '', regex=True, inplace=True)\n",
    "test.replace(np.nan, '', regex=True, inplace=True)"
   ]
  },
  {
   "cell_type": "code",
   "execution_count": 3,
   "id": "confidential-class",
   "metadata": {},
   "outputs": [],
   "source": [
    "#X_train, y_train = train['reviewText'], train['sentiment']\n",
    "#X_train = X_train.replace(np.nan, '', regex = True)\n",
    "#X_dev, y_dev = dev['reviewText'], dev['sentiment']\n",
    "#X_dev = X_dev.replace(np.nan, '', regex = True)"
   ]
  },
  {
   "cell_type": "markdown",
   "id": "toxic-fellow",
   "metadata": {},
   "source": [
    "### Data Exploration"
   ]
  },
  {
   "cell_type": "code",
   "execution_count": 4,
   "id": "dietary-azerbaijan",
   "metadata": {},
   "outputs": [
    {
     "data": {
      "image/png": "[encoded data removed]",
      "text/plain": [
       "<Figure size 432x288 with 1 Axes>"
      ]
     },
     "metadata": {
      "needs_background": "light"
     },
     "output_type": "display_data"
    }
   ],
   "source": [
    "train['sentiment'].value_counts().plot(kind='bar')\n",
    "\n",
    "plt.title('Distribution of positive and negative reviews')    \n",
    "plt.show()"
   ]
  },
  {
   "cell_type": "code",
   "execution_count": 5,
   "id": "enclosed-orleans",
   "metadata": {},
   "outputs": [
    {
     "data": {
      "text/html": [
       "<div>\n",
       "<style scoped>\n",
       "    .dataframe tbody tr th:only-of-type {\n",
       "        vertical-align: middle;\n",
       "    }\n",
       "\n",
       "    .dataframe tbody tr th {\n",
       "        vertical-align: top;\n",
       "    }\n",
       "\n",
       "    .dataframe thead th {\n",
       "        text-align: right;\n",
       "    }\n",
       "</style>\n",
       "<table border=\"1\" class=\"dataframe\">\n",
       "  <thead>\n",
       "    <tr style=\"text-align: right;\">\n",
       "      <th></th>\n",
       "      <th>reviewText</th>\n",
       "      <th>sentiment</th>\n",
       "    </tr>\n",
       "  </thead>\n",
       "  <tbody>\n",
       "    <tr>\n",
       "      <th>count</th>\n",
       "      <td>100000</td>\n",
       "      <td>100000</td>\n",
       "    </tr>\n",
       "    <tr>\n",
       "      <th>unique</th>\n",
       "      <td>88519</td>\n",
       "      <td>2</td>\n",
       "    </tr>\n",
       "    <tr>\n",
       "      <th>top</th>\n",
       "      <td>Great song</td>\n",
       "      <td>positive</td>\n",
       "    </tr>\n",
       "    <tr>\n",
       "      <th>freq</th>\n",
       "      <td>305</td>\n",
       "      <td>60783</td>\n",
       "    </tr>\n",
       "  </tbody>\n",
       "</table>\n",
       "</div>"
      ],
      "text/plain": [
       "        reviewText sentiment\n",
       "count       100000    100000\n",
       "unique       88519         2\n",
       "top     Great song  positive\n",
       "freq           305     60783"
      ]
     },
     "execution_count": 5,
     "metadata": {},
     "output_type": "execute_result"
    }
   ],
   "source": [
    "train.describe()"
   ]
  },
  {
   "cell_type": "code",
   "execution_count": 6,
   "id": "finite-cover",
   "metadata": {},
   "outputs": [
    {
     "data": {
      "text/html": [
       "<div>\n",
       "<style scoped>\n",
       "    .dataframe tbody tr th:only-of-type {\n",
       "        vertical-align: middle;\n",
       "    }\n",
       "\n",
       "    .dataframe tbody tr th {\n",
       "        vertical-align: top;\n",
       "    }\n",
       "\n",
       "    .dataframe thead tr th {\n",
       "        text-align: left;\n",
       "    }\n",
       "\n",
       "    .dataframe thead tr:last-of-type th {\n",
       "        text-align: right;\n",
       "    }\n",
       "</style>\n",
       "<table border=\"1\" class=\"dataframe\">\n",
       "  <thead>\n",
       "    <tr>\n",
       "      <th></th>\n",
       "      <th colspan=\"4\" halign=\"left\">reviewText</th>\n",
       "    </tr>\n",
       "    <tr>\n",
       "      <th></th>\n",
       "      <th>count</th>\n",
       "      <th>unique</th>\n",
       "      <th>top</th>\n",
       "      <th>freq</th>\n",
       "    </tr>\n",
       "    <tr>\n",
       "      <th>sentiment</th>\n",
       "      <th></th>\n",
       "      <th></th>\n",
       "      <th></th>\n",
       "      <th></th>\n",
       "    </tr>\n",
       "  </thead>\n",
       "  <tbody>\n",
       "    <tr>\n",
       "      <th>negative</th>\n",
       "      <td>39217</td>\n",
       "      <td>35705</td>\n",
       "      <td>ok</td>\n",
       "      <td>62</td>\n",
       "    </tr>\n",
       "    <tr>\n",
       "      <th>positive</th>\n",
       "      <td>60783</td>\n",
       "      <td>52928</td>\n",
       "      <td>Great song</td>\n",
       "      <td>304</td>\n",
       "    </tr>\n",
       "  </tbody>\n",
       "</table>\n",
       "</div>"
      ],
      "text/plain": [
       "          reviewText                        \n",
       "               count unique         top freq\n",
       "sentiment                                   \n",
       "negative       39217  35705          ok   62\n",
       "positive       60783  52928  Great song  304"
      ]
     },
     "execution_count": 6,
     "metadata": {},
     "output_type": "execute_result"
    }
   ],
   "source": [
    "train.groupby('sentiment').describe()"
   ]
  },
  {
   "cell_type": "markdown",
   "id": "unable-machinery",
   "metadata": {},
   "source": [
    "### Data preprocessing\n",
    "\n",
    "Remove punctuation and stopwords"
   ]
  },
  {
   "cell_type": "code",
   "execution_count": 7,
   "id": "hawaiian-instruction",
   "metadata": {},
   "outputs": [],
   "source": [
    "import string\n",
    "from nltk.corpus import stopwords\n",
    "\n",
    "def preprocess_text(text):\n",
    "    puncs = string.punctuation\n",
    "    stops = stopwords.words('english')\n",
    "    no_punc = [token for token in text if token not in puncs]                               #remove punctuations\n",
    "    no_punc = ''.join(no_punc)\n",
    "    no_stops = [word.lower() for word in no_punc.split() if word.lower() not in stops]      #remove stopwords\n",
    "    \n",
    "    return ' '.join(no_stops)"
   ]
  },
  {
   "cell_type": "code",
   "execution_count": 8,
   "id": "charming-bones",
   "metadata": {},
   "outputs": [
    {
     "data": {
      "text/plain": [
       "0    creative love music words message favorite son...\n",
       "1          tape hardly understood listed sale good bad\n",
       "2    buy cd buy mp3 album download longer available...\n",
       "3    love dallas holms music voice thank attending ...\n",
       "4                    great memories early years christ\n",
       "Name: reviewText, dtype: object"
      ]
     },
     "execution_count": 8,
     "metadata": {},
     "output_type": "execute_result"
    }
   ],
   "source": [
    "# View how the text is cleaned\n",
    "train['reviewText'].head(5).apply(preprocess_text)"
   ]
  },
  {
   "cell_type": "code",
   "execution_count": 9,
   "id": "foreign-glory",
   "metadata": {},
   "outputs": [],
   "source": [
    "train_clean = train['reviewText'].apply(preprocess_text).tolist()\n",
    "dev_clean = dev['reviewText'].apply(preprocess_text).tolist()\n",
    "test_clean = test['reviewText'].apply(preprocess_text).tolist()"
   ]
  },
  {
   "cell_type": "markdown",
   "id": "final-material",
   "metadata": {},
   "source": [
    "### Bag of Words (BOW)\n",
    "\n",
    "We have to convert each reviewText into a vector through a BOW representation.\n",
    "\n",
    "Each will the dimension as the unique words in the reviews. **CountVectorizer** will convert the reviews into a matrix of word counts. The columns are a word (entire vocab) and the rows are each review, and 1 is present if that word is present in the reviewText."
   ]
  },
  {
   "cell_type": "code",
   "execution_count": 10,
   "id": "imperial-valve",
   "metadata": {},
   "outputs": [
    {
     "name": "stdout",
     "output_type": "stream",
     "text": [
      "Vocab size: 41181\n"
     ]
    }
   ],
   "source": [
    "from sklearn.feature_extraction.text import CountVectorizer\n",
    "bow_transformer = CountVectorizer(min_df=2).fit(train_clean)\n",
    "print(f'Vocab size: {len(bow_transformer.vocabulary_)}')"
   ]
  },
  {
   "cell_type": "code",
   "execution_count": 11,
   "id": "typical-collectible",
   "metadata": {},
   "outputs": [],
   "source": [
    "# Apply transformation to data\n",
    "train_bow = bow_transformer.transform(train_clean)\n",
    "dev_bow = bow_transformer.transform(dev_clean)\n",
    "test_bow = bow_transformer.transform(test_clean)"
   ]
  },
  {
   "cell_type": "code",
   "execution_count": 12,
   "id": "exciting-mercury",
   "metadata": {},
   "outputs": [
    {
     "name": "stdout",
     "output_type": "stream",
     "text": [
      "Shape of sparse matrix: (100000, 41181)\n"
     ]
    }
   ],
   "source": [
    "print(f'Shape of sparse matrix: {train_bow.shape}')"
   ]
  },
  {
   "cell_type": "markdown",
   "id": "intended-climate",
   "metadata": {},
   "source": [
    "### Weights\n",
    "\n",
    "**TF-IDF**\n",
    "\n",
    "Calculate the number of times a word appears in a sentence divided by the total number of words in the sentence."
   ]
  },
  {
   "cell_type": "code",
   "execution_count": 13,
   "id": "associate-alert",
   "metadata": {},
   "outputs": [],
   "source": [
    "from sklearn.feature_extraction.text import TfidfTransformer\n",
    "tfidf_transformer = TfidfTransformer().fit(train_bow)"
   ]
  },
  {
   "cell_type": "code",
   "execution_count": 14,
   "id": "super-charity",
   "metadata": {},
   "outputs": [
    {
     "name": "stdout",
     "output_type": "stream",
     "text": [
      "(100000, 41181)\n"
     ]
    }
   ],
   "source": [
    "train_tfidf = tfidf_transformer.transform(train_bow)\n",
    "dev_tfidf = tfidf_transformer.transform(dev_bow)\n",
    "test_tfidf = tfidf_transformer.transform(test_bow)\n",
    "print(train_tfidf.shape)"
   ]
  },
  {
   "cell_type": "markdown",
   "id": "labeled-interference",
   "metadata": {},
   "source": [
    "### Model training and evaluation"
   ]
  },
  {
   "cell_type": "code",
   "execution_count": 15,
   "id": "revised-calendar",
   "metadata": {},
   "outputs": [],
   "source": [
    "# Train a NaiveBayes model on the traning vectorized reviews\n",
    "\n",
    "from sklearn.naive_bayes import MultinomialNB\n",
    "NaiveBayes = MultinomialNB().fit(train_tfidf, train['sentiment'])"
   ]
  },
  {
   "cell_type": "code",
   "execution_count": 16,
   "id": "angry-sullivan",
   "metadata": {},
   "outputs": [
    {
     "data": {
      "text/plain": [
       "0.8758"
      ]
     },
     "execution_count": 16,
     "metadata": {},
     "output_type": "execute_result"
    }
   ],
   "source": [
    "# Predict the sentences in the dev set\n",
    "\n",
    "predictions = NaiveBayes.predict(dev_tfidf)\n",
    "from sklearn.metrics import accuracy_score\n",
    "accuracy_score(predictions, dev['sentiment'])"
   ]
  },
  {
   "cell_type": "markdown",
   "id": "formed-candy",
   "metadata": {},
   "source": [
    "### Output predictions on test to csv"
   ]
  },
  {
   "cell_type": "code",
   "execution_count": 17,
   "id": "turned-croatia",
   "metadata": {},
   "outputs": [],
   "source": [
    "test_pred = NaiveBayes.predict(test_tfidf)"
   ]
  },
  {
   "cell_type": "code",
   "execution_count": 18,
   "id": "collectible-concrete",
   "metadata": {},
   "outputs": [],
   "source": [
    "label2idx = {'negative': 0, 'positive':1}\n",
    "#labels to numeric\n",
    "test_pred_numeric = list(map(label2idx.get, test_pred))"
   ]
  },
  {
   "cell_type": "code",
   "execution_count": 20,
   "id": "nonprofit-killing",
   "metadata": {},
   "outputs": [],
   "source": [
    "#kaggle_df = pd.DataFrame(test_pred_numeric, columns=['prediction'])\n",
    "#kaggle_df.to_csv('kaggle_test_predictions.csv', index_label='id')"
   ]
  },
  {
   "cell_type": "code",
   "execution_count": null,
   "id": "unlikely-chile",
   "metadata": {},
   "outputs": [],
   "source": []
  }
 ],
 "metadata": {
  "kernelspec": {
   "display_name": "Python 3",
   "language": "python",
   "name": "python3"
  },
  "language_info": {
   "codemirror_mode": {
    "name": "ipython",
    "version": 3
   },
   "file_extension": ".py",
   "mimetype": "text/x-python",
   "name": "python",
   "nbconvert_exporter": "python",
   "pygments_lexer": "ipython3",
   "version": "3.8.6"
  }
 },
 "nbformat": 4,
 "nbformat_minor": 5
}
