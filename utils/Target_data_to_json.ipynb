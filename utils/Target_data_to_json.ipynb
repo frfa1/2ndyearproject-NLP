{
 "cells": [
  {
   "cell_type": "code",
   "execution_count": 39,
   "metadata": {},
   "outputs": [],
   "source": [
    "from collections import defaultdict\n",
    "from pathlib import Path\n",
    "import pandas as pd"
   ]
  },
  {
   "cell_type": "code",
   "execution_count": 40,
   "metadata": {},
   "outputs": [],
   "source": [
    "# Put folder with .txt files into dataframe\n",
    "path = \"./test/neg\"\n",
    "results = defaultdict(list)\n",
    "for file in Path(path).iterdir():\n",
    "    with open(file, \"r\", encoding = \"utf8\") as file_open:\n",
    "        results[\"reviewText\"].append(file_open.read())\n",
    "df_neg_test = pd.DataFrame(results)\n",
    "df_neg_test[\"sentiment\"] = \"negative\""
   ]
  },
  {
   "cell_type": "code",
   "execution_count": 41,
   "metadata": {},
   "outputs": [],
   "source": [
    "# Put folder with .txt files into dataframe\n",
    "path = \"./test/pos\"\n",
    "results = defaultdict(list)\n",
    "for file in Path(path).iterdir():\n",
    "    with open(file, \"r\", encoding = \"utf8\") as file_open:\n",
    "        results[\"reviewText\"].append(file_open.read())\n",
    "df_pos_test = pd.DataFrame(results)\n",
    "df_pos_test[\"sentiment\"] = \"positive\""
   ]
  },
  {
   "cell_type": "code",
   "execution_count": 42,
   "metadata": {},
   "outputs": [],
   "source": [
    "# Put folder with .txt files into dataframe\n",
    "path = \"./train/neg\"\n",
    "results = defaultdict(list)\n",
    "for file in Path(path).iterdir():\n",
    "    with open(file, \"r\", encoding = \"utf8\") as file_open:\n",
    "        results[\"reviewText\"].append(file_open.read())\n",
    "df_neg_train = pd.DataFrame(results)\n",
    "df_neg_train[\"sentiment\"] = \"negative\""
   ]
  },
  {
   "cell_type": "code",
   "execution_count": 43,
   "metadata": {},
   "outputs": [],
   "source": [
    "# Put folder with .txt files into dataframe\n",
    "path = \"./train/pos\"\n",
    "results = defaultdict(list)\n",
    "for file in Path(path).iterdir():\n",
    "    with open(file, \"r\", encoding = \"utf8\") as file_open:\n",
    "        results[\"reviewText\"].append(file_open.read())\n",
    "df_pos_train = pd.DataFrame(results)\n",
    "df_pos_train[\"sentiment\"] = \"positive\""
   ]
  },
  {
   "cell_type": "code",
   "execution_count": 44,
   "metadata": {},
   "outputs": [],
   "source": [
    "# Concatenate the four dataframes\n",
    "pdList = [df_pos_test, df_neg_test, df_pos_train, df_neg_train]\n",
    "df = pd.concat(pdList)"
   ]
  },
  {
   "cell_type": "code",
   "execution_count": 45,
   "metadata": {},
   "outputs": [],
   "source": [
    "# Shuffle the reviews\n",
    "df = df.sample(frac=1).reset_index(drop=True)"
   ]
  },
  {
   "cell_type": "code",
   "execution_count": 46,
   "metadata": {},
   "outputs": [],
   "source": [
    "# Dataframe to json file\n",
    "df.to_json(\"./target_data.json\")"
   ]
  },
  {
   "cell_type": "code",
   "execution_count": null,
   "metadata": {},
   "outputs": [],
   "source": []
  }
 ],
 "metadata": {
  "kernelspec": {
   "display_name": "Python 3",
   "language": "python",
   "name": "python3"
  },
  "language_info": {
   "codemirror_mode": {
    "name": "ipython",
    "version": 3
   },
   "file_extension": ".py",
   "mimetype": "text/x-python",
   "name": "python",
   "nbconvert_exporter": "python",
   "pygments_lexer": "ipython3",
   "version": "3.8.3"
  }
 },
 "nbformat": 4,
 "nbformat_minor": 4
}
