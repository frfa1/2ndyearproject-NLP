{
 "cells": [
  {
   "cell_type": "markdown",
   "metadata": {},
   "source": [
    "# Error analysis\n",
    "\n",
    "This notebook aims to run models on our data and evaluate the performance as well as showcasing their errors."
   ]
  },
  {
   "cell_type": "markdown",
   "metadata": {},
   "source": [
    "## 1. Library imports "
   ]
  },
  {
   "cell_type": "code",
   "execution_count": 39,
   "metadata": {},
   "outputs": [],
   "source": [
    "import utils.loader as loader\n",
    "import pandas as pd\n",
    "import joblib\n",
    "from baseline_models.NaiveBayes import NaiveBayesClassifier\n",
    "from sklearn.metrics import accuracy_score\n",
    "\n",
    "# this module will cause problem if pandas version < 1.1.0, so do a pip install if errors are thrown\n",
    "#pip install pandas==1.1.0"
   ]
  },
  {
   "cell_type": "markdown",
   "metadata": {},
   "source": [
    "## 2. Data loading"
   ]
  },
  {
   "cell_type": "code",
   "execution_count": 40,
   "metadata": {},
   "outputs": [],
   "source": [
    "train = loader.load_train()\n",
    "dev = loader.load_dev()"
   ]
  },
  {
   "cell_type": "markdown",
   "metadata": {},
   "source": [
    "## 3. Analysis function"
   ]
  },
  {
   "cell_type": "code",
   "execution_count": 41,
   "metadata": {},
   "outputs": [],
   "source": [
    "def error_analysis(model,train_features,train_labels,test_features,test_labels, retrain=False, export=False):\n",
    "    if retrain:\n",
    "        model.fit(train_features,train_labels)\n",
    "    y_pred = pd.Series(model.predict(test_features),name='prediction')\n",
    "    print('accuracy of predictions:',accuracy_score(test_labels,y_pred))\n",
    "    error_indices = test_labels.compare(y_pred).index \n",
    "    errors = pd.concat([test_features,test_labels,y_pred],axis=1).iloc[error_indices]\n",
    " #   full_test = pd.concat([test_features,test_labels],axis=1)\n",
    "    if export:\n",
    "        errors.to_csv('errors.csv')\n",
    "    else:\n",
    "        return errors"
   ]
  },
  {
   "cell_type": "markdown",
   "metadata": {},
   "source": [
    "## 4. Models\n",
    "### 4.1 Baseline BOW trained on music reviews, evaluated on music dev"
   ]
  },
  {
   "cell_type": "code",
   "execution_count": 43,
   "metadata": {},
   "outputs": [
    {
     "name": "stdout",
     "output_type": "stream",
     "text": [
      "accuracy of predictions: 0.8666466586634654\n"
     ]
    },
    {
     "data": {
      "text/html": [
       "<div>\n",
       "<style scoped>\n",
       "    .dataframe tbody tr th:only-of-type {\n",
       "        vertical-align: middle;\n",
       "    }\n",
       "\n",
       "    .dataframe tbody tr th {\n",
       "        vertical-align: top;\n",
       "    }\n",
       "\n",
       "    .dataframe thead th {\n",
       "        text-align: right;\n",
       "    }\n",
       "</style>\n",
       "<table border=\"1\" class=\"dataframe\">\n",
       "  <thead>\n",
       "    <tr style=\"text-align: right;\">\n",
       "      <th></th>\n",
       "      <th>reviewText</th>\n",
       "      <th>sentiment</th>\n",
       "      <th>prediction</th>\n",
       "    </tr>\n",
       "  </thead>\n",
       "  <tbody>\n",
       "    <tr>\n",
       "      <th>0</th>\n",
       "      <td>My dentist recommended this as a relaxation te...</td>\n",
       "      <td>positive</td>\n",
       "      <td>negative</td>\n",
       "    </tr>\n",
       "    <tr>\n",
       "      <th>7</th>\n",
       "      <td>\"Rainbow\" was a hard album for me to review. I...</td>\n",
       "      <td>negative</td>\n",
       "      <td>positive</td>\n",
       "    </tr>\n",
       "    <tr>\n",
       "      <th>8</th>\n",
       "      <td>This was the very last original album from Joh...</td>\n",
       "      <td>negative</td>\n",
       "      <td>positive</td>\n",
       "    </tr>\n",
       "    <tr>\n",
       "      <th>9</th>\n",
       "      <td>I thoroughly enjoyed the Battlefield rendition...</td>\n",
       "      <td>positive</td>\n",
       "      <td>negative</td>\n",
       "    </tr>\n",
       "    <tr>\n",
       "      <th>22</th>\n",
       "      <td>Ipve Amazom</td>\n",
       "      <td>positive</td>\n",
       "      <td>negative</td>\n",
       "    </tr>\n",
       "    <tr>\n",
       "      <th>...</th>\n",
       "      <td>...</td>\n",
       "      <td>...</td>\n",
       "      <td>...</td>\n",
       "    </tr>\n",
       "    <tr>\n",
       "      <th>9934</th>\n",
       "      <td>A sour grapes song of probably unrequited love...</td>\n",
       "      <td>positive</td>\n",
       "      <td>negative</td>\n",
       "    </tr>\n",
       "    <tr>\n",
       "      <th>9956</th>\n",
       "      <td>Dad used to wake me up to his version of Revei...</td>\n",
       "      <td>positive</td>\n",
       "      <td>negative</td>\n",
       "    </tr>\n",
       "    <tr>\n",
       "      <th>9959</th>\n",
       "      <td>A+</td>\n",
       "      <td>positive</td>\n",
       "      <td>negative</td>\n",
       "    </tr>\n",
       "    <tr>\n",
       "      <th>9963</th>\n",
       "      <td>This compilation offers a broad variety of fla...</td>\n",
       "      <td>negative</td>\n",
       "      <td>positive</td>\n",
       "    </tr>\n",
       "    <tr>\n",
       "      <th>9978</th>\n",
       "      <td>Not a folk-style entry, as I expected.  More o...</td>\n",
       "      <td>negative</td>\n",
       "      <td>positive</td>\n",
       "    </tr>\n",
       "  </tbody>\n",
       "</table>\n",
       "<p>1333 rows × 3 columns</p>\n",
       "</div>"
      ],
      "text/plain": [
       "                                             reviewText sentiment prediction\n",
       "0     My dentist recommended this as a relaxation te...  positive   negative\n",
       "7     \"Rainbow\" was a hard album for me to review. I...  negative   positive\n",
       "8     This was the very last original album from Joh...  negative   positive\n",
       "9     I thoroughly enjoyed the Battlefield rendition...  positive   negative\n",
       "22                                          Ipve Amazom  positive   negative\n",
       "...                                                 ...       ...        ...\n",
       "9934  A sour grapes song of probably unrequited love...  positive   negative\n",
       "9956  Dad used to wake me up to his version of Revei...  positive   negative\n",
       "9959                                                 A+  positive   negative\n",
       "9963  This compilation offers a broad variety of fla...  negative   positive\n",
       "9978  Not a folk-style entry, as I expected.  More o...  negative   positive\n",
       "\n",
       "[1333 rows x 3 columns]"
      ]
     },
     "execution_count": 43,
     "metadata": {},
     "output_type": "execute_result"
    }
   ],
   "source": [
    "baselineNB = joblib.load('baseline_models/baselineNB.joblib')\n",
    "error_analysis(baselineNB,train['reviewText'],train['sentiment'],dev['reviewText'],dev['sentiment'],retrain=True,export=False)"
   ]
  },
  {
   "cell_type": "code",
   "execution_count": null,
   "metadata": {},
   "outputs": [],
   "source": []
  },
  {
   "cell_type": "code",
   "execution_count": null,
   "metadata": {},
   "outputs": [],
   "source": []
  }
 ],
 "metadata": {
  "kernelspec": {
   "display_name": "Python 3",
   "language": "python",
   "name": "python3"
  },
  "language_info": {
   "codemirror_mode": {
    "name": "ipython",
    "version": 3
   },
   "file_extension": ".py",
   "mimetype": "text/x-python",
   "name": "python",
   "nbconvert_exporter": "python",
   "pygments_lexer": "ipython3",
   "version": "3.8.3"
  }
 },
 "nbformat": 4,
 "nbformat_minor": 4
}
