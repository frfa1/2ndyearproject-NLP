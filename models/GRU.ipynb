{
 "cells": [
  {
   "cell_type": "code",
   "execution_count": 1,
   "metadata": {},
   "outputs": [
    {
     "name": "stderr",
     "output_type": "stream",
     "text": [
      "/home/frfa/anaconda3/lib/python3.7/site-packages/sklearn/feature_extraction/image.py:167: DeprecationWarning: `np.int` is a deprecated alias for the builtin `int`. To silence this warning, use `int` by itself. Doing this will not modify any behavior and is safe. When replacing `np.int`, you may wish to use e.g. `np.int64` or `np.int32` to specify the precision. If you wish to review your current use, check the release note link for additional information.\n",
      "Deprecated in NumPy 1.20; for more details and guidance: https://numpy.org/devdocs/release/1.20.0-notes.html#deprecations\n",
      "  dtype=np.int):\n",
      "/home/frfa/anaconda3/lib/python3.7/site-packages/sklearn/linear_model/least_angle.py:30: DeprecationWarning: `np.float` is a deprecated alias for the builtin `float`. To silence this warning, use `float` by itself. Doing this will not modify any behavior and is safe. If you specifically wanted the numpy scalar type, use `np.float64` here.\n",
      "Deprecated in NumPy 1.20; for more details and guidance: https://numpy.org/devdocs/release/1.20.0-notes.html#deprecations\n",
      "  method='lar', copy_X=True, eps=np.finfo(np.float).eps,\n",
      "/home/frfa/anaconda3/lib/python3.7/site-packages/sklearn/linear_model/least_angle.py:167: DeprecationWarning: `np.float` is a deprecated alias for the builtin `float`. To silence this warning, use `float` by itself. Doing this will not modify any behavior and is safe. If you specifically wanted the numpy scalar type, use `np.float64` here.\n",
      "Deprecated in NumPy 1.20; for more details and guidance: https://numpy.org/devdocs/release/1.20.0-notes.html#deprecations\n",
      "  method='lar', copy_X=True, eps=np.finfo(np.float).eps,\n",
      "/home/frfa/anaconda3/lib/python3.7/site-packages/sklearn/linear_model/least_angle.py:284: DeprecationWarning: `np.float` is a deprecated alias for the builtin `float`. To silence this warning, use `float` by itself. Doing this will not modify any behavior and is safe. If you specifically wanted the numpy scalar type, use `np.float64` here.\n",
      "Deprecated in NumPy 1.20; for more details and guidance: https://numpy.org/devdocs/release/1.20.0-notes.html#deprecations\n",
      "  eps=np.finfo(np.float).eps, copy_Gram=True, verbose=0,\n",
      "/home/frfa/anaconda3/lib/python3.7/site-packages/sklearn/linear_model/least_angle.py:862: DeprecationWarning: `np.float` is a deprecated alias for the builtin `float`. To silence this warning, use `float` by itself. Doing this will not modify any behavior and is safe. If you specifically wanted the numpy scalar type, use `np.float64` here.\n",
      "Deprecated in NumPy 1.20; for more details and guidance: https://numpy.org/devdocs/release/1.20.0-notes.html#deprecations\n",
      "  eps=np.finfo(np.float).eps, copy_X=True, fit_path=True,\n",
      "/home/frfa/anaconda3/lib/python3.7/site-packages/sklearn/linear_model/least_angle.py:1101: DeprecationWarning: `np.float` is a deprecated alias for the builtin `float`. To silence this warning, use `float` by itself. Doing this will not modify any behavior and is safe. If you specifically wanted the numpy scalar type, use `np.float64` here.\n",
      "Deprecated in NumPy 1.20; for more details and guidance: https://numpy.org/devdocs/release/1.20.0-notes.html#deprecations\n",
      "  eps=np.finfo(np.float).eps, copy_X=True, fit_path=True,\n",
      "/home/frfa/anaconda3/lib/python3.7/site-packages/sklearn/linear_model/least_angle.py:1127: DeprecationWarning: `np.float` is a deprecated alias for the builtin `float`. To silence this warning, use `float` by itself. Doing this will not modify any behavior and is safe. If you specifically wanted the numpy scalar type, use `np.float64` here.\n",
      "Deprecated in NumPy 1.20; for more details and guidance: https://numpy.org/devdocs/release/1.20.0-notes.html#deprecations\n",
      "  eps=np.finfo(np.float).eps, positive=False):\n",
      "/home/frfa/anaconda3/lib/python3.7/site-packages/sklearn/linear_model/least_angle.py:1362: DeprecationWarning: `np.float` is a deprecated alias for the builtin `float`. To silence this warning, use `float` by itself. Doing this will not modify any behavior and is safe. If you specifically wanted the numpy scalar type, use `np.float64` here.\n",
      "Deprecated in NumPy 1.20; for more details and guidance: https://numpy.org/devdocs/release/1.20.0-notes.html#deprecations\n",
      "  max_n_alphas=1000, n_jobs=None, eps=np.finfo(np.float).eps,\n",
      "/home/frfa/anaconda3/lib/python3.7/site-packages/sklearn/linear_model/least_angle.py:1602: DeprecationWarning: `np.float` is a deprecated alias for the builtin `float`. To silence this warning, use `float` by itself. Doing this will not modify any behavior and is safe. If you specifically wanted the numpy scalar type, use `np.float64` here.\n",
      "Deprecated in NumPy 1.20; for more details and guidance: https://numpy.org/devdocs/release/1.20.0-notes.html#deprecations\n",
      "  max_n_alphas=1000, n_jobs=None, eps=np.finfo(np.float).eps,\n",
      "/home/frfa/anaconda3/lib/python3.7/site-packages/sklearn/linear_model/least_angle.py:1738: DeprecationWarning: `np.float` is a deprecated alias for the builtin `float`. To silence this warning, use `float` by itself. Doing this will not modify any behavior and is safe. If you specifically wanted the numpy scalar type, use `np.float64` here.\n",
      "Deprecated in NumPy 1.20; for more details and guidance: https://numpy.org/devdocs/release/1.20.0-notes.html#deprecations\n",
      "  eps=np.finfo(np.float).eps, copy_X=True, positive=False):\n"
     ]
    }
   ],
   "source": [
    "import torch\n",
    "import torch.optim as optim\n",
    "import torch.nn as nn\n",
    "import torch.nn.functional as F\n",
    "import numpy as np\n",
    "from nltk import word_tokenize"
   ]
  },
  {
   "cell_type": "markdown",
   "metadata": {},
   "source": [
    "# Preprocessing"
   ]
  },
  {
   "cell_type": "markdown",
   "metadata": {},
   "source": [
    "Loading embeddings and defining preprocessing functions"
   ]
  },
  {
   "cell_type": "code",
   "execution_count": 191,
   "metadata": {},
   "outputs": [
    {
     "name": "stdout",
     "output_type": "stream",
     "text": [
      "loading finished\n"
     ]
    }
   ],
   "source": [
    "### Load embeddings ###\n",
    "\n",
    "# Google News\n",
    "#import gensim.models\n",
    "#googEmbs = gensim.models.KeyedVectors.load_word2vec_format(\n",
    "#                                '../embeddings/googlenews.bin', binary=True)\n",
    "\n",
    "# Glove 6B\n",
    "glove_dict = {}\n",
    "with open(\"../embeddings/glove.6B.50d.txt\", 'r') as f:\n",
    "    for line in f:\n",
    "        values = line.split()\n",
    "        word = values[0]\n",
    "        vector = np.asarray(values[1:], \"float32\")\n",
    "        glove_dict[word] = vector\n",
    "        \n",
    "print('loading finished')"
   ]
  },
  {
   "cell_type": "code",
   "execution_count": 192,
   "metadata": {},
   "outputs": [],
   "source": [
    "# Preprocess function\n",
    "\n",
    "def preprocessing(sentences, max_length=None):\n",
    "    \"\"\"\n",
    "    Inputs sequence of strings (predictor). Outputs data as word embeddings with fixed length and tensor format.\n",
    "    \n",
    "    max_length defines maximum length of sentences. Too short sentences will be padded, and too long sentences will be cut.\n",
    "    If not defined, all sentences will be the length of the longest.\n",
    "    \"\"\"\n",
    "    \n",
    "    cleaned_sentence = []\n",
    "    sent_length = 0\n",
    "    \n",
    "    for sentence in sentences:\n",
    "        sentence = word_tokenize(sentence) # Preprocessing step: Tokenize\n",
    "        emb_sent = []\n",
    "        \n",
    "        for word in sentence: # Convert each word into embedding or zero vector\n",
    "            \n",
    "            try:\n",
    "                emb_word = glove_dict[word.lower()]\n",
    "            except KeyError:\n",
    "                emb_word = np.zeros((50,)) \n",
    "            emb_sent.append(emb_word)\n",
    "            \n",
    "        if len(emb_sent) > sent_length:\n",
    "            sent_length = len(emb_sent)\n",
    "        cleaned_sentence.append(emb_sent)\n",
    "        \n",
    "    # Padding to longest sentence length -- Or max length variable if defined\n",
    "    if not max_length:\n",
    "        max_length = sent_length\n",
    "        \n",
    "    # Padding to longest sentence length\n",
    "    for idx, cleaned_sent in enumerate(cleaned_sentence):\n",
    "        if len(cleaned_sent) < max_length:\n",
    "            for i in range(max_length - len(cleaned_sent)):\n",
    "                cleaned_sent.append(np.zeros((50,)))\n",
    "        if len(cleaned_sent) > max_length:\n",
    "            cleaned_sentence[idx] = cleaned_sentence[idx][:max_length]\n",
    "            \n",
    "    \n",
    "    return torch.tensor(cleaned_sentence) # a tensor of data. Each index is an instance"
   ]
  },
  {
   "cell_type": "code",
   "execution_count": 193,
   "metadata": {},
   "outputs": [],
   "source": [
    "def binary_y(y):\n",
    "    \"\"\"\n",
    "    Converts sequence of string labels to binary 1 for positive and 0 for negative tensor.\n",
    "    \"\"\"\n",
    "    \n",
    "    for i in range(len(y)):\n",
    "        if y[i] == \"positive\":\n",
    "            y[i] = 1\n",
    "        if y[i] == \"negative\":\n",
    "            y[i] = 0\n",
    "            \n",
    "    return torch.tensor(y)"
   ]
  },
  {
   "cell_type": "markdown",
   "metadata": {},
   "source": [
    "# Loading the data"
   ]
  },
  {
   "cell_type": "markdown",
   "metadata": {},
   "source": [
    "Loading the data and converting it via preprocessing functions. Batching will be done in the <b>Training</b>-section."
   ]
  },
  {
   "cell_type": "code",
   "execution_count": 194,
   "metadata": {},
   "outputs": [],
   "source": [
    "# Loading train, dev and test data\n",
    "from loader import load_train, load_dev, load_test\n",
    "from torch.utils.data import DataLoader\n",
    "from torch.utils.data import TensorDataset\n",
    "\n",
    "train = load_train()\n",
    "dev = load_dev()\n",
    "test = load_test()"
   ]
  },
  {
   "cell_type": "code",
   "execution_count": 195,
   "metadata": {},
   "outputs": [],
   "source": [
    "train_x = preprocessing(train[\"reviewText\"][:5000], max_length=60)\n",
    "train_y = binary_y(train[\"sentiment\"][:5000])\n",
    "all_train = TensorDataset(train_x, train_y)\n",
    "\n",
    "dev_x = preprocessing(dev[\"reviewText\"][:10000], max_length=60)\n",
    "dev_y = binary_y(dev[\"sentiment\"][:10000])\n",
    "all_dev = TensorDataset(dev_x, dev_y)\n",
    "\n",
    "#test_x = preprocessing(test[\"reviewText\"][:100], 20)\n",
    "#test_y = test[\"sentiment\"][:100]"
   ]
  },
  {
   "cell_type": "markdown",
   "metadata": {},
   "source": [
    "# Defining the NN Model\n",
    "\n",
    "A GRU NN with a FFNN layer on top"
   ]
  },
  {
   "cell_type": "code",
   "execution_count": 204,
   "metadata": {},
   "outputs": [],
   "source": [
    "# Hyperparameters\n",
    "\n",
    "# Network\n",
    "input_size = train_x.shape[2]\n",
    "hidden_size = 300\n",
    "num_layers = 2\n",
    "sequence_length = train_x.shape[1]\n",
    "\n",
    "# Training\n",
    "learning_rate = 0.005\n",
    "momentum = 0.9\n",
    "batch_size = 50\n",
    "num_epoch = 30"
   ]
  },
  {
   "cell_type": "code",
   "execution_count": 205,
   "metadata": {},
   "outputs": [],
   "source": [
    "class sentiNN(nn.Module):\n",
    "    \"\"\" \n",
    "    Neural Network for sentiment analysis. GRU model with binary classification FFNN on top.\n",
    "    \"\"\"\n",
    "    \n",
    "    def __init__(self, input_size, hidden_size, num_layers):\n",
    "        super(sentiNN, self).__init__()\n",
    "        \n",
    "        # Variables / parameters\n",
    "        self.input_size = input_size\n",
    "        self.hidden_size = hidden_size\n",
    "        self.num_layers = num_layers\n",
    "        \n",
    "        # Layers\n",
    "        self.gru = nn.GRU(self.input_size, self.hidden_size, self.num_layers, batch_first=True)\n",
    "        self.fc1 = nn.Linear(self.hidden_size * sequence_length, 100)\n",
    "        self.fc2 = nn.Linear(100, out_features=2)\n",
    "        \n",
    "    def forward(self, x):        \n",
    "        # Initialize GRU hidden state\n",
    "        #h0 = torch.zeros(self.num_layers, x.size(0), self.hidden_size)\n",
    "        \n",
    "        #print(\"h0\")\n",
    "        #print(h0.shape)\n",
    "        #print(h0)\n",
    "        #print(\"\\n\")\n",
    "        #print(\"x\")\n",
    "        #print(x.shape)\n",
    "        #print(x)\n",
    "        \n",
    "        # Forward Prop\n",
    "        out, _ = self.gru(x) #, h0)\n",
    "        out = out.reshape(out.shape[0], -1)\n",
    "        out = F.relu(self.fc1(out))\n",
    "        out = self.fc2(out)\n",
    "        \n",
    "        return out\n",
    "    "
   ]
  },
  {
   "cell_type": "code",
   "execution_count": 206,
   "metadata": {},
   "outputs": [],
   "source": [
    "net = sentiNN(input_size, hidden_size, num_layers).float()"
   ]
  },
  {
   "cell_type": "markdown",
   "metadata": {},
   "source": [
    "# Training the NN"
   ]
  },
  {
   "cell_type": "code",
   "execution_count": 207,
   "metadata": {},
   "outputs": [],
   "source": [
    "# Batching the data\n",
    "\n",
    "train_batches = DataLoader(all_train, batch_size=batch_size)\n",
    "dev_batches = DataLoader(all_dev, batch_size=batch_size)"
   ]
  },
  {
   "cell_type": "code",
   "execution_count": 208,
   "metadata": {},
   "outputs": [],
   "source": [
    "# Loss function\n",
    "criterion = nn.CrossEntropyLoss()\n",
    "optimizer = optim.SGD(net.parameters(), lr=learning_rate, momentum=momentum)"
   ]
  },
  {
   "cell_type": "code",
   "execution_count": 209,
   "metadata": {},
   "outputs": [
    {
     "name": "stdout",
     "output_type": "stream",
     "text": [
      "[1,   100] loss: 0.661\n",
      "[2,   100] loss: 0.624\n",
      "[3,   100] loss: 0.606\n",
      "[4,   100] loss: 0.585\n",
      "[5,   100] loss: 0.558\n",
      "[6,   100] loss: 0.548\n",
      "[7,   100] loss: 0.529\n",
      "[8,   100] loss: 0.533\n",
      "[9,   100] loss: 0.514\n",
      "[10,   100] loss: 0.515\n",
      "[11,   100] loss: 0.503\n",
      "[12,   100] loss: 0.493\n",
      "[13,   100] loss: 0.481\n",
      "[14,   100] loss: 0.474\n",
      "[15,   100] loss: 0.466\n",
      "[16,   100] loss: 0.457\n",
      "[17,   100] loss: 0.449\n",
      "[18,   100] loss: 0.441\n",
      "[19,   100] loss: 0.433\n",
      "[20,   100] loss: 0.426\n",
      "[21,   100] loss: 0.418\n",
      "[22,   100] loss: 0.410\n",
      "[23,   100] loss: 0.402\n",
      "[24,   100] loss: 0.394\n",
      "[25,   100] loss: 0.386\n",
      "[26,   100] loss: 0.378\n",
      "[27,   100] loss: 0.368\n",
      "[28,   100] loss: 0.358\n",
      "[29,   100] loss: 0.349\n",
      "[30,   100] loss: 0.338\n",
      "Finished Training\n"
     ]
    }
   ],
   "source": [
    "loss_list = []\n",
    "\n",
    "for epoch in range(num_epoch):  # loop over the dataset multiple times\n",
    "\n",
    "    running_loss = 0.0\n",
    "    for i, data in enumerate(train_batches, 0):\n",
    "        # get the inputs; data is a list of [inputs, labels]\n",
    "        inputs, labels = data\n",
    "\n",
    "        # zero the parameter gradients\n",
    "        optimizer.zero_grad()\n",
    "\n",
    "        # forward + backward + optimize\n",
    "        outputs = net(inputs.float())\n",
    "        loss = criterion(outputs, labels)\n",
    "        loss.backward()\n",
    "        optimizer.step()\n",
    "\n",
    "        # print statistics\n",
    "        running_loss += loss.item()\n",
    "        if i % 100 == 99:    # print every 100 mini-batches\n",
    "            print('[%d, %5d] loss: %.3f' %\n",
    "                  (epoch + 1, i + 1, running_loss / 100))\n",
    "            loss_list.append(running_loss)\n",
    "            running_loss = 0.0\n",
    "\n",
    "print('Finished Training')"
   ]
  },
  {
   "cell_type": "markdown",
   "metadata": {},
   "source": [
    "# Plotting training progress"
   ]
  },
  {
   "cell_type": "code",
   "execution_count": 212,
   "metadata": {},
   "outputs": [
    {
     "data": {
      "image/png": "[encoded data removed]",
      "text/plain": [
       "<Figure size 432x288 with 1 Axes>"
      ]
     },
     "metadata": {
      "needs_background": "light"
     },
     "output_type": "display_data"
    }
   ],
   "source": [
    "import matplotlib.pyplot as plt\n",
    "plt.plot([x for x in range(len(loss_list))], loss_list)\n",
    "#plt.axis([0, 1, 0, 20])\n",
    "plt.ylabel('Loss')\n",
    "plt.xlabel('epochs')\n",
    "plt.show()"
   ]
  },
  {
   "cell_type": "markdown",
   "metadata": {},
   "source": [
    "# (OLD) Loading and preprocessing the data\n",
    "\n",
    "Using torchtext: \n",
    "- https://torchtext.readthedocs.io/en/latest/index.html\n",
    "- https://galhever.medium.com/sentiment-analysis-with-pytorch-part-1-data-preprocessing-a51c80cc15fb\n",
    "- https://github.com/bentrevett/pytorch-sentiment-analysis/blob/master/1%20-%20Simple%20Sentiment%20Analysis.ipynb"
   ]
  },
  {
   "cell_type": "code",
   "execution_count": null,
   "metadata": {},
   "outputs": [],
   "source": [
    "# Loading train data\n",
    "\n",
    "from loader import load_train\n",
    "train = load_train()"
   ]
  },
  {
   "cell_type": "code",
   "execution_count": null,
   "metadata": {},
   "outputs": [],
   "source": [
    "# Preprocessing data\n",
    "\n",
    "from torchtext.legacy import data\n",
    "import spacy \n",
    "\n",
    "#spacy.cli.download(\"en_core_web_sm\")\n",
    "\n",
    "TEXT = data.Field(tokenize = 'spacy',\n",
    "                  tokenizer_language = 'en_core_web_sm',\n",
    "                  #preprocessing=preprocessing,\n",
    "                  fix_length=200, # should be max_document_length\n",
    "                  lower=True\n",
    "                 )\n",
    "LABEL = data.LabelField(dtype = torch.float)"
   ]
  },
  {
   "cell_type": "code",
   "execution_count": null,
   "metadata": {},
   "outputs": [],
   "source": [
    "# Formating train_x and train_y\n",
    "\n",
    "train_x = list(map(TEXT.preprocess, train[\"reviewText\"]))\n",
    "train_x = TEXT.pad(train_x)\n",
    "train_y = list(map(LABEL.preprocess, train[\"sentiment\"]))"
   ]
  },
  {
   "cell_type": "code",
   "execution_count": null,
   "metadata": {},
   "outputs": [],
   "source": [
    "# Building vocab\n",
    "\n",
    "TEXT.build_vocab(train_x, max_size=5000, vectors='glove.42B.300d')\n",
    "LABEL.build_vocab(train_x)\n",
    "vocab_size = len(TEXT.vocab)"
   ]
  },
  {
   "cell_type": "code",
   "execution_count": null,
   "metadata": {},
   "outputs": [],
   "source": [
    "vocab = TEXT.vocab"
   ]
  },
  {
   "cell_type": "code",
   "execution_count": null,
   "metadata": {},
   "outputs": [],
   "source": [
    "vocab[\"hope\"]"
   ]
  },
  {
   "cell_type": "code",
   "execution_count": null,
   "metadata": {},
   "outputs": [],
   "source": []
  }
 ],
 "metadata": {
  "kernelspec": {
   "display_name": "Python 3",
   "language": "python",
   "name": "python3"
  },
  "language_info": {
   "codemirror_mode": {
    "name": "ipython",
    "version": 3
   },
   "file_extension": ".py",
   "mimetype": "text/x-python",
   "name": "python",
   "nbconvert_exporter": "python",
   "pygments_lexer": "ipython3",
   "version": "3.7.4"
  }
 },
 "nbformat": 4,
 "nbformat_minor": 2
}
