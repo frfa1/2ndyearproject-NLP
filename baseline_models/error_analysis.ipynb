{
 "cells": [
  {
   "cell_type": "markdown",
   "metadata": {},
   "source": [
    "# Error analysis\n",
    "\n",
    "This notebook aims to run models on our data and evaluate the performance as well as showcasing their errors."
   ]
  },
  {
   "cell_type": "markdown",
   "metadata": {},
   "source": [
    "## 1. Library imports "
   ]
  },
  {
   "cell_type": "code",
   "execution_count": 39,
   "metadata": {},
   "outputs": [],
   "source": [
    "import utils.loader as loader\n",
    "import pandas as pd\n",
    "import joblib\n",
    "from baseline_models.NaiveBayes import NaiveBayesClassifier\n",
    "from sklearn.metrics import accuracy_score\n",
    "\n",
    "# this module will cause problem if pandas version < 1.1.0, so do a pip install if errors are thrown\n",
    "#pip install pandas==1.1.0"
   ]
  },
  {
   "cell_type": "markdown",
   "metadata": {},
   "source": [
    "## 2. Data loading"
   ]
  },
  {
   "cell_type": "code",
   "execution_count": 40,
   "metadata": {},
   "outputs": [],
   "source": [
    "train = loader.load_train()\n",
    "dev = loader.load_dev()"
   ]
  },
  {
   "cell_type": "markdown",
   "metadata": {},
   "source": [
    "## 3. Analysis function"
   ]
  },
  {
   "cell_type": "code",
   "execution_count": 41,
   "metadata": {},
   "outputs": [],
   "source": [
    "def error_analysis(\n",
    "        model,\n",
    "        train_features,\n",
    "        train_labels,\n",
    "        test_features,\n",
    "        test_labels, \n",
    "        retrain=False, \n",
    "        export=False,\n",
    "        export_name=None\n",
    "    ):\n",
    "    \n",
    "    if retrain:\n",
    "        model.fit(train_features,train_labels)\n",
    "        \n",
    "    y_pred = pd.Series(model.predict(test_features),name='prediction')\n",
    "    \n",
    "    print('accuracy of predictions:',accuracy_score(test_labels,y_pred))\n",
    "    \n",
    "    error_indices = test_labels.compare(y_pred).index \n",
    "    errors = pd.concat([test_features,test_labels,y_pred],axis=1).iloc[error_indices]\n",
    "\n",
    "    if export:\n",
    "        if export_name:\n",
    "            errors.to_csv(export_name+'.csv')\n",
    "        else:\n",
    "            errors.to_csv('errors.csv')\n",
    "    else:\n",
    "        return errors"
   ]
  },
  {
   "cell_type": "markdown",
   "metadata": {},
   "source": [
    "## 4. Models\n",
    "### 4.1 Baseline BOW trained on music reviews, evaluated on music dev"
   ]
  },
  {
   "cell_type": "code",
   "execution_count": 44,
   "metadata": {},
   "outputs": [
    {
     "name": "stdout",
     "output_type": "stream",
     "text": [
      "accuracy of predictions: 0.8666466586634654\n"
     ]
    }
   ],
   "source": [
    "baselineNB = joblib.load('baseline_models/baselineNB.joblib')\n",
    "error_analysis(baselineNB,train['reviewText'],train['sentiment'],dev['reviewText'],dev['sentiment'],retrain=True,export=True)"
   ]
  },
  {
   "cell_type": "code",
   "execution_count": null,
   "metadata": {},
   "outputs": [],
   "source": []
  },
  {
   "cell_type": "code",
   "execution_count": null,
   "metadata": {},
   "outputs": [],
   "source": []
  }
 ],
 "metadata": {
  "kernelspec": {
   "display_name": "Python 3",
   "language": "python",
   "name": "python3"
  },
  "language_info": {
   "codemirror_mode": {
    "name": "ipython",
    "version": 3
   },
   "file_extension": ".py",
   "mimetype": "text/x-python",
   "name": "python",
   "nbconvert_exporter": "python",
   "pygments_lexer": "ipython3",
   "version": "3.8.3"
  }
 },
 "nbformat": 4,
 "nbformat_minor": 4
}
