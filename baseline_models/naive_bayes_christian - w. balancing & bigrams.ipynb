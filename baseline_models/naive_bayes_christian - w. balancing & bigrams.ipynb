{
 "cells": [
  {
   "cell_type": "code",
   "execution_count": 1,
   "metadata": {},
   "outputs": [],
   "source": [
    "import numpy as np\n",
    "import pandas as pd\n",
    "import nltk\n",
    "import re\n",
    "import matplotlib.pyplot as plt"
   ]
  },
  {
   "cell_type": "markdown",
   "metadata": {},
   "source": [
    "## Load data"
   ]
  },
  {
   "cell_type": "code",
   "execution_count": 2,
   "metadata": {},
   "outputs": [],
   "source": [
    "train = pd.read_json('data/music_reviews_train.json', lines=True)\n",
    "dev = pd.read_json('data/music_reviews_dev.json', lines=True)\n",
    "test = pd.read_json('data/music_reviews_test_masked.json', lines=True)\n",
    "\n",
    "train = train[['reviewText', 'sentiment']]\n",
    "dev = dev[['reviewText', 'sentiment']]\n",
    "test = test[['reviewText', 'sentiment']]\n",
    "\n",
    "train.replace(np.nan, '', regex=True, inplace=True)\n",
    "dev.replace(np.nan, '', regex=True, inplace=True)\n",
    "test.replace(np.nan, '', regex=True, inplace=True)"
   ]
  },
  {
   "cell_type": "code",
   "execution_count": 3,
   "metadata": {},
   "outputs": [],
   "source": [
    "#X_train, y_train = train['reviewText'], train['sentiment']\n",
    "#X_train = X_train.replace(np.nan, '', regex = True)\n",
    "#X_dev, y_dev = dev['reviewText'], dev['sentiment']\n",
    "#X_dev = X_dev.replace(np.nan, '', regex = True)"
   ]
  },
  {
   "cell_type": "markdown",
   "metadata": {},
   "source": [
    "### Data Exploration"
   ]
  },
  {
   "cell_type": "code",
   "execution_count": 4,
   "metadata": {},
   "outputs": [
    {
     "data": {
      "image/png": "[encoded data removed]",
      "text/plain": [
       "<Figure size 432x288 with 1 Axes>"
      ]
     },
     "metadata": {
      "needs_background": "light"
     },
     "output_type": "display_data"
    }
   ],
   "source": [
    "train['sentiment'].value_counts().plot(kind='bar')\n",
    "\n",
    "plt.title('Distribution of positive and negative reviews')    \n",
    "plt.show()"
   ]
  },
  {
   "cell_type": "code",
   "execution_count": 5,
   "metadata": {},
   "outputs": [
    {
     "data": {
      "text/html": [
       "<div>\n",
       "<style scoped>\n",
       "    .dataframe tbody tr th:only-of-type {\n",
       "        vertical-align: middle;\n",
       "    }\n",
       "\n",
       "    .dataframe tbody tr th {\n",
       "        vertical-align: top;\n",
       "    }\n",
       "\n",
       "    .dataframe thead th {\n",
       "        text-align: right;\n",
       "    }\n",
       "</style>\n",
       "<table border=\"1\" class=\"dataframe\">\n",
       "  <thead>\n",
       "    <tr style=\"text-align: right;\">\n",
       "      <th></th>\n",
       "      <th>reviewText</th>\n",
       "      <th>sentiment</th>\n",
       "    </tr>\n",
       "  </thead>\n",
       "  <tbody>\n",
       "    <tr>\n",
       "      <th>count</th>\n",
       "      <td>100000</td>\n",
       "      <td>100000</td>\n",
       "    </tr>\n",
       "    <tr>\n",
       "      <th>unique</th>\n",
       "      <td>88519</td>\n",
       "      <td>2</td>\n",
       "    </tr>\n",
       "    <tr>\n",
       "      <th>top</th>\n",
       "      <td>Great song</td>\n",
       "      <td>positive</td>\n",
       "    </tr>\n",
       "    <tr>\n",
       "      <th>freq</th>\n",
       "      <td>305</td>\n",
       "      <td>60783</td>\n",
       "    </tr>\n",
       "  </tbody>\n",
       "</table>\n",
       "</div>"
      ],
      "text/plain": [
       "        reviewText sentiment\n",
       "count       100000    100000\n",
       "unique       88519         2\n",
       "top     Great song  positive\n",
       "freq           305     60783"
      ]
     },
     "execution_count": 5,
     "metadata": {},
     "output_type": "execute_result"
    }
   ],
   "source": [
    "train.describe()"
   ]
  },
  {
   "cell_type": "code",
   "execution_count": 6,
   "metadata": {},
   "outputs": [
    {
     "data": {
      "text/html": [
       "<div>\n",
       "<style scoped>\n",
       "    .dataframe tbody tr th:only-of-type {\n",
       "        vertical-align: middle;\n",
       "    }\n",
       "\n",
       "    .dataframe tbody tr th {\n",
       "        vertical-align: top;\n",
       "    }\n",
       "\n",
       "    .dataframe thead tr th {\n",
       "        text-align: left;\n",
       "    }\n",
       "\n",
       "    .dataframe thead tr:last-of-type th {\n",
       "        text-align: right;\n",
       "    }\n",
       "</style>\n",
       "<table border=\"1\" class=\"dataframe\">\n",
       "  <thead>\n",
       "    <tr>\n",
       "      <th></th>\n",
       "      <th colspan=\"4\" halign=\"left\">reviewText</th>\n",
       "    </tr>\n",
       "    <tr>\n",
       "      <th></th>\n",
       "      <th>count</th>\n",
       "      <th>unique</th>\n",
       "      <th>top</th>\n",
       "      <th>freq</th>\n",
       "    </tr>\n",
       "    <tr>\n",
       "      <th>sentiment</th>\n",
       "      <th></th>\n",
       "      <th></th>\n",
       "      <th></th>\n",
       "      <th></th>\n",
       "    </tr>\n",
       "  </thead>\n",
       "  <tbody>\n",
       "    <tr>\n",
       "      <th>negative</th>\n",
       "      <td>39217</td>\n",
       "      <td>35705</td>\n",
       "      <td>ok</td>\n",
       "      <td>62</td>\n",
       "    </tr>\n",
       "    <tr>\n",
       "      <th>positive</th>\n",
       "      <td>60783</td>\n",
       "      <td>52928</td>\n",
       "      <td>Great song</td>\n",
       "      <td>304</td>\n",
       "    </tr>\n",
       "  </tbody>\n",
       "</table>\n",
       "</div>"
      ],
      "text/plain": [
       "          reviewText                        \n",
       "               count unique         top freq\n",
       "sentiment                                   \n",
       "negative       39217  35705          ok   62\n",
       "positive       60783  52928  Great song  304"
      ]
     },
     "execution_count": 6,
     "metadata": {},
     "output_type": "execute_result"
    }
   ],
   "source": [
    "train.groupby('sentiment').describe()"
   ]
  },
  {
   "cell_type": "markdown",
   "metadata": {},
   "source": [
    "### Balancing dataset\n",
    "\n",
    "Removing random positive cases untill dataset is even"
   ]
  },
  {
   "cell_type": "code",
   "execution_count": 90,
   "metadata": {},
   "outputs": [
    {
     "data": {
      "text/html": [
       "<div>\n",
       "<style scoped>\n",
       "    .dataframe tbody tr th:only-of-type {\n",
       "        vertical-align: middle;\n",
       "    }\n",
       "\n",
       "    .dataframe tbody tr th {\n",
       "        vertical-align: top;\n",
       "    }\n",
       "\n",
       "    .dataframe thead th {\n",
       "        text-align: right;\n",
       "    }\n",
       "</style>\n",
       "<table border=\"1\" class=\"dataframe\">\n",
       "  <thead>\n",
       "    <tr style=\"text-align: right;\">\n",
       "      <th></th>\n",
       "      <th>reviewText</th>\n",
       "      <th>sentiment</th>\n",
       "    </tr>\n",
       "  </thead>\n",
       "  <tbody>\n",
       "    <tr>\n",
       "      <th>0</th>\n",
       "      <td>I've listened to the audio samples from \"Good ...</td>\n",
       "      <td>negative</td>\n",
       "    </tr>\n",
       "    <tr>\n",
       "      <th>1</th>\n",
       "      <td>In a former life I would have told you LP was ...</td>\n",
       "      <td>negative</td>\n",
       "    </tr>\n",
       "    <tr>\n",
       "      <th>2</th>\n",
       "      <td>I bought this album because i'm always looking...</td>\n",
       "      <td>negative</td>\n",
       "    </tr>\n",
       "    <tr>\n",
       "      <th>3</th>\n",
       "      <td>Just got around to playing this and half the s...</td>\n",
       "      <td>negative</td>\n",
       "    </tr>\n",
       "    <tr>\n",
       "      <th>4</th>\n",
       "      <td>Great album!</td>\n",
       "      <td>positive</td>\n",
       "    </tr>\n",
       "  </tbody>\n",
       "</table>\n",
       "</div>"
      ],
      "text/plain": [
       "                                          reviewText sentiment\n",
       "0  I've listened to the audio samples from \"Good ...  negative\n",
       "1  In a former life I would have told you LP was ...  negative\n",
       "2  I bought this album because i'm always looking...  negative\n",
       "3  Just got around to playing this and half the s...  negative\n",
       "4                                       Great album!  positive"
      ]
     },
     "execution_count": 90,
     "metadata": {},
     "output_type": "execute_result"
    }
   ],
   "source": [
    "# Shuffling\n",
    "train = train.sample(frac=1).reset_index(drop=True)\n",
    "\n",
    "pos = train.loc[train[\"sentiment\"] == \"positive\"]\n",
    "neg = train.loc[train[\"sentiment\"] == \"negative\"]\n",
    "\n",
    "pos = pos.iloc[:len(neg)]\n",
    "train = pd.concat([pos, neg])\n",
    "\n",
    "train = train.sample(frac=1).reset_index(drop=True)\n",
    "train.head(5)"
   ]
  },
  {
   "cell_type": "markdown",
   "metadata": {},
   "source": [
    "### Data preprocessing\n",
    "\n",
    "Remove punctuation and stopwords"
   ]
  },
  {
   "cell_type": "code",
   "execution_count": 64,
   "metadata": {},
   "outputs": [],
   "source": [
    "import string\n",
    "from nltk.corpus import stopwords\n",
    "\n",
    "def preprocess_text(text):\n",
    "    puncs = string.punctuation\n",
    "    stops = stopwords.words('english')\n",
    "    no_punc = [token for token in text if token not in puncs]                               #remove punctuations\n",
    "    no_punc = ''.join(no_punc)\n",
    "    no_stops = [word.lower() for word in no_punc.split() if word.lower() not in stops]      #remove stopwords\n",
    "    \n",
    "    return ' '.join(no_stops)"
   ]
  },
  {
   "cell_type": "code",
   "execution_count": 65,
   "metadata": {},
   "outputs": [
    {
     "data": {
      "text/plain": [
       "0                            got playlist make cup tea\n",
       "1    instrumental pink floyd album sounds like wond...\n",
       "2    wth rerecorded crap says album version doesnt ...\n",
       "3    use huge ntwicm fan 4 5 6 7 8 9 10 11 1213 14 ...\n",
       "4    years contemporary christian artists tried emu...\n",
       "Name: reviewText, dtype: object"
      ]
     },
     "execution_count": 65,
     "metadata": {},
     "output_type": "execute_result"
    }
   ],
   "source": [
    "# View how the text is cleaned\n",
    "train['reviewText'].head(5).apply(preprocess_text)"
   ]
  },
  {
   "cell_type": "code",
   "execution_count": 66,
   "metadata": {},
   "outputs": [],
   "source": [
    "train_clean = train['reviewText'].apply(preprocess_text).tolist()\n",
    "dev_clean = dev['reviewText'].apply(preprocess_text).tolist()\n",
    "test_clean = test['reviewText'].apply(preprocess_text).tolist()"
   ]
  },
  {
   "cell_type": "markdown",
   "metadata": {},
   "source": [
    "### Bag of Words (BOW)\n",
    "\n",
    "We have to convert each reviewText into a vector through a BOW representation.\n",
    "\n",
    "Each will the dimension as the unique words in the reviews. **CountVectorizer** will convert the reviews into a matrix of word counts. The columns are a word (entire vocab) and the rows are each review, and 1 is present if that word is present in the reviewText."
   ]
  },
  {
   "cell_type": "code",
   "execution_count": 78,
   "metadata": {},
   "outputs": [
    {
     "name": "stdout",
     "output_type": "stream",
     "text": [
      "Vocab size: 1116849\n"
     ]
    }
   ],
   "source": [
    "from sklearn.feature_extraction.text import CountVectorizer\n",
    "bow_transformer = CountVectorizer(ngram_range=(1,2)).fit(train_clean)\n",
    "print(f'Vocab size: {len(bow_transformer.vocabulary_)}')"
   ]
  },
  {
   "cell_type": "code",
   "execution_count": 79,
   "metadata": {},
   "outputs": [],
   "source": [
    "# Apply transformation to data\n",
    "train_bow = bow_transformer.transform(train_clean)\n",
    "dev_bow = bow_transformer.transform(dev_clean)\n",
    "test_bow = bow_transformer.transform(test_clean)"
   ]
  },
  {
   "cell_type": "code",
   "execution_count": 80,
   "metadata": {},
   "outputs": [
    {
     "name": "stdout",
     "output_type": "stream",
     "text": [
      "Shape of sparse matrix: (78434, 1116849)\n"
     ]
    }
   ],
   "source": [
    "print(f'Shape of sparse matrix: {train_bow.shape}')"
   ]
  },
  {
   "cell_type": "markdown",
   "metadata": {},
   "source": [
    "### Weights\n",
    "\n",
    "**TF-IDF**\n",
    "\n",
    "Calculate the number of times a word appears in a sentence divided by the total number of words in the sentence."
   ]
  },
  {
   "cell_type": "code",
   "execution_count": 81,
   "metadata": {},
   "outputs": [],
   "source": [
    "from sklearn.feature_extraction.text import TfidfTransformer\n",
    "tfidf_transformer = TfidfTransformer().fit(train_bow)"
   ]
  },
  {
   "cell_type": "code",
   "execution_count": 82,
   "metadata": {},
   "outputs": [
    {
     "name": "stdout",
     "output_type": "stream",
     "text": [
      "(78434, 1116849)\n"
     ]
    }
   ],
   "source": [
    "train_tfidf = tfidf_transformer.transform(train_bow)\n",
    "dev_tfidf = tfidf_transformer.transform(dev_bow)\n",
    "test_tfidf = tfidf_transformer.transform(test_bow)\n",
    "print(train_tfidf.shape)"
   ]
  },
  {
   "cell_type": "code",
   "execution_count": 83,
   "metadata": {},
   "outputs": [
    {
     "data": {
      "text/plain": [
       "<1x1116849 sparse matrix of type '<class 'numpy.float64'>'\n",
       "\twith 109 stored elements in Compressed Sparse Row format>"
      ]
     },
     "execution_count": 83,
     "metadata": {},
     "output_type": "execute_result"
    }
   ],
   "source": [
    "train_tfidf[1,:]"
   ]
  },
  {
   "cell_type": "markdown",
   "metadata": {},
   "source": [
    "### Model training and evaluation"
   ]
  },
  {
   "cell_type": "code",
   "execution_count": 84,
   "metadata": {},
   "outputs": [],
   "source": [
    "# Train a NaiveBayes model on the traning vectorized reviews\n",
    "\n",
    "from sklearn.naive_bayes import MultinomialNB\n",
    "NaiveBayes = MultinomialNB().fit(train_tfidf, train['sentiment'])"
   ]
  },
  {
   "cell_type": "code",
   "execution_count": 85,
   "metadata": {},
   "outputs": [
    {
     "data": {
      "text/plain": [
       "0.8548"
      ]
     },
     "execution_count": 85,
     "metadata": {},
     "output_type": "execute_result"
    }
   ],
   "source": [
    "# Predict the sentences in the dev set\n",
    "\n",
    "predictions = NaiveBayes.predict(dev_tfidf)\n",
    "from sklearn.metrics import accuracy_score\n",
    "accuracy_score(predictions, dev['sentiment'])"
   ]
  },
  {
   "cell_type": "markdown",
   "metadata": {},
   "source": [
    "### Output predictions on test to csv"
   ]
  },
  {
   "cell_type": "code",
   "execution_count": 86,
   "metadata": {},
   "outputs": [],
   "source": [
    "test_pred = NaiveBayes.predict(test_tfidf)"
   ]
  },
  {
   "cell_type": "code",
   "execution_count": 87,
   "metadata": {},
   "outputs": [],
   "source": [
    "label2idx = {'negative': 0, 'positive':1}\n",
    "#labels to numeric\n",
    "test_pred_numeric = list(map(label2idx.get, test_pred))"
   ]
  },
  {
   "cell_type": "code",
   "execution_count": 88,
   "metadata": {},
   "outputs": [],
   "source": [
    "#kaggle_df = pd.DataFrame(test_pred_numeric, columns=['prediction'])\n",
    "#kaggle_df.to_csv('test_predictions.csv', index_label='id')"
   ]
  },
  {
   "cell_type": "code",
   "execution_count": null,
   "metadata": {},
   "outputs": [],
   "source": []
  },
  {
   "cell_type": "code",
   "execution_count": null,
   "metadata": {},
   "outputs": [],
   "source": []
  },
  {
   "cell_type": "code",
   "execution_count": null,
   "metadata": {},
   "outputs": [],
   "source": []
  }
 ],
 "metadata": {
  "kernelspec": {
   "display_name": "Python 3",
   "language": "python",
   "name": "python3"
  },
  "language_info": {
   "codemirror_mode": {
    "name": "ipython",
    "version": 3
   },
   "file_extension": ".py",
   "mimetype": "text/x-python",
   "name": "python",
   "nbconvert_exporter": "python",
   "pygments_lexer": "ipython3",
   "version": "3.8.3"
  }
 },
 "nbformat": 4,
 "nbformat_minor": 5
}
